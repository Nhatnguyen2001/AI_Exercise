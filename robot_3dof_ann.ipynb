{
  "nbformat": 4,
  "nbformat_minor": 0,
  "metadata": {
    "colab": {
      "name": "robot_3dof_ann.ipynb",
      "provenance": [],
      "collapsed_sections": [],
      "authorship_tag": "ABX9TyM/ZLNY1nvfo1v8hx5OuXDf",
      "include_colab_link": true
    },
    "kernelspec": {
      "name": "python3",
      "display_name": "Python 3"
    },
    "language_info": {
      "name": "python"
    },
    "accelerator": "GPU"
  },
  "cells": [
    {
      "cell_type": "markdown",
      "metadata": {
        "id": "view-in-github",
        "colab_type": "text"
      },
      "source": [
        "<a href=\"https://colab.research.google.com/github/Nhatnguyen2001/AI_Exercise/blob/main/robot_3dof_ann.ipynb\" target=\"_parent\"><img src=\"https://colab.research.google.com/assets/colab-badge.svg\" alt=\"Open In Colab\"/></a>"
      ]
    },
    {
      "cell_type": "code",
      "source": [
        "import numpy as np\n",
        "import pandas as pd\n",
        "from keras.layers import Dense,Dropout\n",
        "from sklearn.linear_model import Perceptron\n",
        "from sklearn.model_selection import train_test_split\n",
        "from sklearn.metrics import accuracy_score\n",
        "import tensorflow as tf\n",
        "from tensorflow.keras.optimizers import Adam\n",
        "from keras.models import Sequential"
      ],
      "metadata": {
        "id": "NJDK5BB_zQ3x"
      },
      "execution_count": null,
      "outputs": []
    },
    {
      "cell_type": "code",
      "execution_count": null,
      "metadata": {
        "id": "kFanKrLsdXMA"
      },
      "outputs": [],
      "source": [
        "import matplotlib.pyplot as plt\n",
        "import math\n",
        "import csv\n",
        "import numpy as np\n",
        "u=[]\n",
        "z=[]\n",
        "for i in range(0,181,3):\n",
        "  for j in range(0,181,3):\n",
        "    for k in range(0,181,3):\n",
        "        x=50*math.cos(math.radians(i))+40*math.cos(math.radians(i+j))+30*math.cos(math.radians(i+j+k))\n",
        "        y=50*math.sin(math.radians(i))+40*math.sin(math.radians(i+j))+30*math.sin(math.radians(i+j+k))\n",
        "        t=k+j+i\n",
        "        z.append(np.array((i,j,k,x,y,t)))\n",
        "#print(u)"
      ]
    },
    {
      "cell_type": "code",
      "source": [
        "header = ['anpha', 'beta','gamma', 'x', 'y','phi']\n",
        "with open('robot_3b.csv', 'w', encoding='UTF8', newline='') as f:\n",
        "    writer = csv.writer(f)\n",
        "\n",
        "    # write the header\n",
        "    writer.writerow(header)\n",
        "\n",
        "    # write multiple rows\n",
        "    writer.writerows(u)"
      ],
      "metadata": {
        "id": "bhr_EeEAddsN"
      },
      "execution_count": null,
      "outputs": []
    },
    {
      "cell_type": "code",
      "source": [
        "data = pd.read_csv('robot_3b.csv')\n",
        "data.shape\n",
        "numpy_dataset = data.values"
      ],
      "metadata": {
        "id": "Wk-Jx7MEzRkZ"
      },
      "execution_count": null,
      "outputs": []
    },
    {
      "cell_type": "code",
      "source": [
        "y=numpy_dataset[:,:3]\n",
        "x=numpy_dataset[:,3:]\n",
        "x_train,x_test,y_train,y_test = train_test_split(x,y,test_size=0.20)"
      ],
      "metadata": {
        "id": "2NezEn4uzYah"
      },
      "execution_count": null,
      "outputs": []
    },
    {
      "cell_type": "code",
      "source": [
        "print(\"Original data is:\",x_train)\n",
        "print(\"Shape of data is: \",x_train.shape)"
      ],
      "metadata": {
        "colab": {
          "base_uri": "https://localhost:8080/"
        },
        "id": "AEvv7NxBz5m5",
        "outputId": "f4569064-c572-4ce5-dc14-c3e4d127c5fa"
      },
      "execution_count": null,
      "outputs": [
        {
          "output_type": "stream",
          "name": "stdout",
          "text": [
            "Original data is: [[ 17.73723645 115.25310449  99.        ]\n",
            " [-80.2312414   45.77152614 186.        ]\n",
            " [ -6.8607741   21.18887773 306.        ]\n",
            " ...\n",
            " [-19.05472155   0.40664224 285.        ]\n",
            " [ 26.80399145  -5.23430684 297.        ]\n",
            " [-14.37282343  57.72832772 225.        ]]\n",
            "Shape of data is:  (5629128, 3)\n"
          ]
        }
      ]
    },
    {
      "cell_type": "code",
      "source": [
        "print(\"Original data is:\",y_train)\n",
        "print(\"Shape of data is: \",y_train.shape)"
      ],
      "metadata": {
        "colab": {
          "base_uri": "https://localhost:8080/"
        },
        "id": "Cau9d2xtz9G_",
        "outputId": "9c7f9031-c9db-49b2-c434-26216fab1a68"
      },
      "execution_count": null,
      "outputs": [
        {
          "output_type": "stream",
          "name": "stdout",
          "text": [
            "Original data is: [[ 66.  21.  12.]\n",
            " [102.  78.   6.]\n",
            " [ 72. 111. 123.]\n",
            " ...\n",
            " [ 81. 129.  75.]\n",
            " [  6. 150. 141.]\n",
            " [ 60.  57. 108.]]\n",
            "Shape of data is:  (5629128, 3)\n"
          ]
        }
      ]
    },
    {
      "cell_type": "code",
      "source": [
        "model = Sequential() \n",
        "model.add(Dense(32, activation='relu', input_shape = (3,))) \n",
        "model.add(Dense(64, activation='relu'))\n",
        "model.add(Dense(32, activation='relu'))\n",
        "model.add(Dense(3))\n",
        "model.summary()\n",
        "model.compile(loss='mse', optimizer =Adam(), metrics=['acc'])\n",
        "history = model.fit(x_train, y_train, batch_size = 128, epochs = 10, validation_split = 0.2)"
      ],
      "metadata": {
        "colab": {
          "base_uri": "https://localhost:8080/"
        },
        "id": "shJsNfio0N4_",
        "outputId": "6eeed1bf-ee29-44f8-80cd-aa7d317f39f3"
      },
      "execution_count": null,
      "outputs": [
        {
          "output_type": "stream",
          "name": "stdout",
          "text": [
            "Model: \"sequential_2\"\n",
            "_________________________________________________________________\n",
            " Layer (type)                Output Shape              Param #   \n",
            "=================================================================\n",
            " dense_8 (Dense)             (None, 32)                128       \n",
            "                                                                 \n",
            " dense_9 (Dense)             (None, 64)                2112      \n",
            "                                                                 \n",
            " dense_10 (Dense)            (None, 32)                2080      \n",
            "                                                                 \n",
            " dense_11 (Dense)            (None, 3)                 99        \n",
            "                                                                 \n",
            "=================================================================\n",
            "Total params: 4,419\n",
            "Trainable params: 4,419\n",
            "Non-trainable params: 0\n",
            "_________________________________________________________________\n",
            "Epoch 1/10\n",
            "35183/35183 [==============================] - 155s 4ms/step - loss: 118.0631 - acc: 0.9214 - val_loss: 31.1619 - val_acc: 0.9577\n",
            "Epoch 2/10\n",
            "35183/35183 [==============================] - 157s 4ms/step - loss: 23.2843 - acc: 0.9663 - val_loss: 14.9677 - val_acc: 0.9711\n",
            "Epoch 3/10\n",
            "35183/35183 [==============================] - 152s 4ms/step - loss: 16.9787 - acc: 0.9722 - val_loss: 17.9679 - val_acc: 0.9642\n",
            "Epoch 4/10\n",
            "35183/35183 [==============================] - 153s 4ms/step - loss: 14.2652 - acc: 0.9747 - val_loss: 19.7875 - val_acc: 0.9717\n",
            "Epoch 5/10\n",
            "35183/35183 [==============================] - 156s 4ms/step - loss: 12.6974 - acc: 0.9766 - val_loss: 160.7023 - val_acc: 0.8958\n",
            "Epoch 6/10\n",
            "35183/35183 [==============================] - 154s 4ms/step - loss: 11.7357 - acc: 0.9778 - val_loss: 19.5304 - val_acc: 0.9731\n",
            "Epoch 7/10\n",
            "35183/35183 [==============================] - 151s 4ms/step - loss: 10.9148 - acc: 0.9782 - val_loss: 27.7861 - val_acc: 0.9640\n",
            "Epoch 8/10\n",
            "35183/35183 [==============================] - 154s 4ms/step - loss: 10.2313 - acc: 0.9788 - val_loss: 27.5679 - val_acc: 0.9606\n",
            "Epoch 9/10\n",
            "35183/35183 [==============================] - 153s 4ms/step - loss: 9.7258 - acc: 0.9793 - val_loss: 14.8054 - val_acc: 0.9746\n",
            "Epoch 10/10\n",
            "35183/35183 [==============================] - 149s 4ms/step - loss: 9.0980 - acc: 0.9800 - val_loss: 15.1337 - val_acc: 0.9767\n"
          ]
        }
      ]
    },
    {
      "cell_type": "code",
      "source": [
        "score=model.evaluate(x_test,y_test,verbose=0)\n",
        "print('sai so kiem tra la',score[0])\n",
        "print('do chinh xac kiem tra',score[1])"
      ],
      "metadata": {
        "colab": {
          "base_uri": "https://localhost:8080/"
        },
        "id": "hMRilbIw0ggX",
        "outputId": "f2da1bcc-557d-428a-cfc8-814df99eabac"
      },
      "execution_count": null,
      "outputs": [
        {
          "output_type": "stream",
          "name": "stdout",
          "text": [
            "sai so kiem tra la 31.36914825439453\n",
            "do chinh xac kiem tra 0.9535722136497498\n"
          ]
        }
      ]
    },
    {
      "cell_type": "code",
      "source": [
        "import pandas as pd\n",
        "score = model.evaluate(x_test,y_test,verbose = 0)\n",
        "y_pred = model.predict(x_test)\n",
        "print(y_pred)\n",
        "pd.DataFrame(history.history)\n",
        "plt.plot(figsize=(8,5))\n",
        "plt.grid(True)\n",
        "plt.gca().set_ylim(0,1)\n",
        "plt.show()"
      ],
      "metadata": {
        "colab": {
          "base_uri": "https://localhost:8080/",
          "height": 390
        },
        "id": "TcBS4sEk0h3P",
        "outputId": "6332d660-8fa8-400d-b7c2-8b5ae42360b3"
      },
      "execution_count": null,
      "outputs": [
        {
          "output_type": "stream",
          "name": "stdout",
          "text": [
            "[[ 26.887266 153.01984  140.1237  ]\n",
            " [ 74.20021   19.02117  118.51005 ]\n",
            " [ 98.08242  124.61156   28.369785]\n",
            " ...\n",
            " [ 16.704924  13.513727  16.203625]\n",
            " [ 50.715134 127.32966   49.19667 ]\n",
            " [144.26944   -3.193832  87.59338 ]]\n"
          ]
        },
        {
          "output_type": "display_data",
          "data": {
            "text/plain": [
              "<Figure size 432x288 with 1 Axes>"
            ],
            "image/png": "[encoded data removed]"
          },
          "metadata": {
            "needs_background": "light"
          }
        }
      ]
    },
    {
      "cell_type": "code",
      "source": [
        "plt.plot(history.history['acc'])\n",
        "plt.plot(history.history['val_acc'])\n",
        "plt.title('model accuracy')\n",
        "plt.ylabel('accuracy')\n",
        "plt.xlabel('epoch')\n",
        "plt.legend(['train','validation'],loc='upper_left')\n",
        "plt.show()"
      ],
      "metadata": {
        "colab": {
          "base_uri": "https://localhost:8080/",
          "height": 558
        },
        "id": "VFxgD3ma0lve",
        "outputId": "d60c3cf1-5786-4bfe-9514-fb30c9bc0589"
      },
      "execution_count": null,
      "outputs": [
        {
          "output_type": "stream",
          "name": "stderr",
          "text": [
            "/usr/local/lib/python3.7/dist-packages/ipykernel_launcher.py:6: MatplotlibDeprecationWarning: Unrecognized location 'upper_left'. Falling back on 'best'; valid locations are\n",
            "\tbest\n",
            "\tupper right\n",
            "\tupper left\n",
            "\tlower left\n",
            "\tlower right\n",
            "\tright\n",
            "\tcenter left\n",
            "\tcenter right\n",
            "\tlower center\n",
            "\tupper center\n",
            "\tcenter\n",
            "This will raise an exception in 3.3.\n",
            "  \n"
          ]
        },
        {
          "output_type": "display_data",
          "data": {
            "text/plain": [
              "<Figure size 432x288 with 1 Axes>"
            ],
            "image/png": "[encoded data removed]"
          },
          "metadata": {
            "needs_background": "light"
          }
        }
      ]
    },
    {
      "cell_type": "code",
      "source": [
        "Px_test_train = 20\n",
        "Py_test_train = 50\n",
        "phi = 90\n",
        "print(Px_test_train,Py_test_train,phi)\n",
        "test = model.predict([[Px_test_train,Py_test_train,phi]])\n",
        "t1 = test[0][0]\n",
        "t2 = test[0][1]\n",
        "t3 = test[0][2]\n",
        "\n",
        "x_1=50*math.cos(math.radians(t1))+40*math.cos(math.radians(t1+t2))+30*math.cos(math.radians(t1+t2+t3))\n",
        "y_1=50*math.sin(math.radians(t1))+40*math.sin(math.radians(t1+t2))+30*math.sin(math.radians(t1+t2+t3))\n",
        "print('x = ',x_1,'y = ',y_1)\n",
        "print(t1,t2,t3)"
      ],
      "metadata": {
        "colab": {
          "base_uri": "https://localhost:8080/"
        },
        "id": "ZO2v2RjL0okI",
        "outputId": "296f8ab1-754a-4899-cef0-634052767a44"
      },
      "execution_count": null,
      "outputs": [
        {
          "output_type": "stream",
          "name": "stdout",
          "text": [
            "20 50 90\n",
            "x =  15.672294121444592 y =  47.19961340673495\n",
            "-12.425701 147.2497 -35.308846\n"
          ]
        }
      ]
    },
    {
      "cell_type": "code",
      "source": [
        "model.save('Robot_3dof.h5')"
      ],
      "metadata": {
        "id": "dd2GsRSZy3fG"
      },
      "execution_count": null,
      "outputs": []
    }
  ]
}