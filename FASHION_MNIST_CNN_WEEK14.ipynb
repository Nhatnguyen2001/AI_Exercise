{
  "nbformat": 4,
  "nbformat_minor": 0,
  "metadata": {
    "colab": {
      "name": "FASHION_MNIST_CNN_WEEK14.ipynb",
      "provenance": [],
      "collapsed_sections": [],
      "authorship_tag": "ABX9TyNXHDbIib0taK6oz1glUQ2q",
      "include_colab_link": true
    },
    "kernelspec": {
      "name": "python3",
      "display_name": "Python 3"
    },
    "language_info": {
      "name": "python"
    }
  },
  "cells": [
    {
      "cell_type": "markdown",
      "metadata": {
        "id": "view-in-github",
        "colab_type": "text"
      },
      "source": [
        "<a href=\"https://colab.research.google.com/github/Nhatnguyen2001/AI_Exercise/blob/main/FASHION_MNIST_CNN_WEEK14.ipynb\" target=\"_parent\"><img src=\"https://colab.research.google.com/assets/colab-badge.svg\" alt=\"Open In Colab\"/></a>"
      ]
    },
    {
      "cell_type": "markdown",
      "source": [
        "1. IMPORT LIBRARY"
      ],
      "metadata": {
        "id": "pT-i5ktdYB6_"
      }
    },
    {
      "cell_type": "code",
      "execution_count": null,
      "metadata": {
        "id": "U2TuS92SX3wg"
      },
      "outputs": [],
      "source": [
        "import matplotlib.pyplot as plt\n",
        "import numpy as np\n",
        "from tensorflow.keras import datasets\n",
        "from keras.utils import np_utils\n",
        "from keras.models import Sequential\n",
        "from keras.layers import Dense, Dropout, Flatten, Conv2D, MaxPooling2D, ZeroPadding2D\n",
        "from tensorflow.keras.optimizers import RMSprop, Adam, SGD, Optimizer\n",
        "from keras.callbacks import EarlyStopping\n",
        "from keras.models import load_model\n",
        "from keras.preprocessing.image import load_img, img_to_array"
      ]
    },
    {
      "cell_type": "markdown",
      "source": [
        "2. LOAD DATA"
      ],
      "metadata": {
        "id": "15haqX_3YNWY"
      }
    },
    {
      "cell_type": "code",
      "source": [
        "(x_train,y_train),(x_test,y_test) = datasets.fashion_mnist.load_data()"
      ],
      "metadata": {
        "id": "ry8Yn2iSYO-v"
      },
      "execution_count": null,
      "outputs": []
    },
    {
      "cell_type": "markdown",
      "source": [
        "3. PROCESSING DATA"
      ],
      "metadata": {
        "id": "FFDwW4zZYYoS"
      }
    },
    {
      "cell_type": "code",
      "source": [
        "x_train = x_train.astype('float32')\n",
        "x_test = x_test.astype('float32')\n",
        "x_train/=255\n",
        "x_test/=255\n",
        "y_train = np_utils.to_categorical(y_train,10)\n",
        "y_test = np_utils.to_categorical(y_test,10)\n",
        "print(x_train.shape)\n",
        "print(y_train.shape)"
      ],
      "metadata": {
        "colab": {
          "base_uri": "https://localhost:8080/"
        },
        "id": "LI7SPm-hYcow",
        "outputId": "b3621194-cbb2-4bc1-9707-e25f6e219021"
      },
      "execution_count": null,
      "outputs": [
        {
          "output_type": "stream",
          "name": "stdout",
          "text": [
            "(60000, 28, 28)\n",
            "(60000, 10)\n"
          ]
        }
      ]
    },
    {
      "cell_type": "markdown",
      "source": [
        "4. CREATE MODEL"
      ],
      "metadata": {
        "id": "gbQ2kUpPZEWC"
      }
    },
    {
      "cell_type": "code",
      "source": [
        "model = Sequential()\n",
        "model.add(Conv2D(32,(3,3), activation = 'relu', kernel_initializer = 'he_uniform', padding = 'same', input_shape=(28,28,1)))\n",
        "model.add(Conv2D(32,(3,3), activation = 'relu', kernel_initializer = 'he_uniform', padding = 'same'))\n",
        "model.add(MaxPooling2D((2,2)))\n",
        "model.add(Dropout(0.25))\n",
        "\n",
        "model.add(Conv2D(64,(3,3), activation = 'relu', kernel_initializer = 'he_uniform', padding = 'same'))\n",
        "model.add(MaxPooling2D((2,2)))\n",
        "model.add(Dropout(0.5))\n",
        "\n",
        "model.add(Flatten())\n",
        "model.add(Dense(32, activation = 'relu'))\n",
        "model.add(Dropout(0.5))\n",
        "model.add(Dense(10,activation='softmax'))\n",
        "\n",
        "model.summary()"
      ],
      "metadata": {
        "colab": {
          "base_uri": "https://localhost:8080/"
        },
        "id": "sz7PzQ0JY4k2",
        "outputId": "89fa3dcc-f697-4bc1-bd45-3d3f1e592810"
      },
      "execution_count": null,
      "outputs": [
        {
          "output_type": "stream",
          "name": "stdout",
          "text": [
            "Model: \"sequential\"\n",
            "_________________________________________________________________\n",
            " Layer (type)                Output Shape              Param #   \n",
            "=================================================================\n",
            " conv2d (Conv2D)             (None, 28, 28, 32)        320       \n",
            "                                                                 \n",
            " conv2d_1 (Conv2D)           (None, 28, 28, 32)        9248      \n",
            "                                                                 \n",
            " max_pooling2d (MaxPooling2D  (None, 14, 14, 32)       0         \n",
            " )                                                               \n",
            "                                                                 \n",
            " dropout (Dropout)           (None, 14, 14, 32)        0         \n",
            "                                                                 \n",
            " conv2d_2 (Conv2D)           (None, 14, 14, 64)        18496     \n",
            "                                                                 \n",
            " max_pooling2d_1 (MaxPooling  (None, 7, 7, 64)         0         \n",
            " 2D)                                                             \n",
            "                                                                 \n",
            " dropout_1 (Dropout)         (None, 7, 7, 64)          0         \n",
            "                                                                 \n",
            " flatten (Flatten)           (None, 3136)              0         \n",
            "                                                                 \n",
            " dense (Dense)               (None, 32)                100384    \n",
            "                                                                 \n",
            " dropout_2 (Dropout)         (None, 32)                0         \n",
            "                                                                 \n",
            " dense_1 (Dense)             (None, 10)                330       \n",
            "                                                                 \n",
            "=================================================================\n",
            "Total params: 128,778\n",
            "Trainable params: 128,778\n",
            "Non-trainable params: 0\n",
            "_________________________________________________________________\n"
          ]
        }
      ]
    },
    {
      "cell_type": "markdown",
      "source": [
        "5. TRAINING MODEL"
      ],
      "metadata": {
        "id": "yYwgKmxVZHj3"
      }
    },
    {
      "cell_type": "code",
      "source": [
        "model.compile(optimizer='adam',loss='categorical_crossentropy',metrics=['accuracy'])\n",
        "history = model.fit(x_train,y_train,batch_size = 128, epochs = 10,verbose = 1, validation_data =(x_test,y_test))"
      ],
      "metadata": {
        "colab": {
          "base_uri": "https://localhost:8080/"
        },
        "id": "46NRH2yMZJcP",
        "outputId": "c9a216fe-7a68-4f9e-aa19-fb17eaba5526"
      },
      "execution_count": null,
      "outputs": [
        {
          "output_type": "stream",
          "name": "stdout",
          "text": [
            "Epoch 1/10\n",
            "469/469 [==============================] - 171s 363ms/step - loss: 1.1195 - accuracy: 0.5842 - val_loss: 0.5225 - val_accuracy: 0.8253\n",
            "Epoch 2/10\n",
            "469/469 [==============================] - 152s 324ms/step - loss: 0.7396 - accuracy: 0.7151 - val_loss: 0.4194 - val_accuracy: 0.8494\n",
            "Epoch 3/10\n",
            "469/469 [==============================] - 149s 318ms/step - loss: 0.6570 - accuracy: 0.7499 - val_loss: 0.4046 - val_accuracy: 0.8583\n",
            "Epoch 4/10\n",
            "469/469 [==============================] - 153s 326ms/step - loss: 0.6002 - accuracy: 0.7707 - val_loss: 0.3832 - val_accuracy: 0.8716\n",
            "Epoch 5/10\n",
            "469/469 [==============================] - 149s 317ms/step - loss: 0.5704 - accuracy: 0.7849 - val_loss: 0.3591 - val_accuracy: 0.8824\n",
            "Epoch 6/10\n",
            "469/469 [==============================] - 149s 317ms/step - loss: 0.5395 - accuracy: 0.7962 - val_loss: 0.3473 - val_accuracy: 0.8840\n",
            "Epoch 7/10\n",
            "469/469 [==============================] - 149s 317ms/step - loss: 0.5216 - accuracy: 0.8028 - val_loss: 0.3227 - val_accuracy: 0.8955\n",
            "Epoch 8/10\n",
            "469/469 [==============================] - 149s 317ms/step - loss: 0.5026 - accuracy: 0.8114 - val_loss: 0.3032 - val_accuracy: 0.8968\n",
            "Epoch 9/10\n",
            "469/469 [==============================] - 148s 316ms/step - loss: 0.4697 - accuracy: 0.8285 - val_loss: 0.2985 - val_accuracy: 0.8983\n",
            "Epoch 10/10\n",
            "469/469 [==============================] - 148s 315ms/step - loss: 0.4433 - accuracy: 0.8392 - val_loss: 0.2823 - val_accuracy: 0.8974\n"
          ]
        }
      ]
    },
    {
      "cell_type": "markdown",
      "source": [
        "6. DRAWING MODEL"
      ],
      "metadata": {
        "id": "SnLre3_xboG4"
      }
    },
    {
      "cell_type": "code",
      "source": [
        "plt.plot(history.history['accuracy'])\n",
        "plt.plot(history.history['val_accuracy'])\n",
        "plt.title('Model accuracy - MNIST')\n",
        "plt.ylabel('Accuracy')\n",
        "plt.xlabel('Epoch')\n",
        "plt.legend(['Train','Validation'],loc='upper_left')\n",
        "plt.show()"
      ],
      "metadata": {
        "colab": {
          "base_uri": "https://localhost:8080/",
          "height": 538
        },
        "id": "IYfYdFAgbrBP",
        "outputId": "0a9611c4-b66d-4e63-ba21-5cf8e169d54e"
      },
      "execution_count": null,
      "outputs": [
        {
          "output_type": "stream",
          "name": "stderr",
          "text": [
            "/usr/local/lib/python3.7/dist-packages/ipykernel_launcher.py:6: MatplotlibDeprecationWarning: Unrecognized location 'upper_left'. Falling back on 'best'; valid locations are\n",
            "\tbest\n",
            "\tupper right\n",
            "\tupper left\n",
            "\tlower left\n",
            "\tlower right\n",
            "\tright\n",
            "\tcenter left\n",
            "\tcenter right\n",
            "\tlower center\n",
            "\tupper center\n",
            "\tcenter\n",
            "This will raise an exception in 3.3.\n",
            "  \n"
          ]
        },
        {
          "output_type": "display_data",
          "data": {
            "text/plain": [
              "<Figure size 432x288 with 1 Axes>"
            ],
            "image/png": "[encoded data removed]"
          },
          "metadata": {
            "needs_background": "light"
          }
        }
      ]
    },
    {
      "cell_type": "markdown",
      "source": [
        "7. SAVE MODEL"
      ],
      "metadata": {
        "id": "frp7_8Fgbtlz"
      }
    },
    {
      "cell_type": "code",
      "source": [
        "model.save('FASHION_MNIST.h5')"
      ],
      "metadata": {
        "id": "VQHta7HLbvVP"
      },
      "execution_count": null,
      "outputs": []
    }
  ]
}