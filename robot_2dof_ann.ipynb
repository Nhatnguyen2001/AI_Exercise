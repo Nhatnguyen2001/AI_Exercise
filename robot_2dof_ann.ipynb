{
  "nbformat": 4,
  "nbformat_minor": 0,
  "metadata": {
    "colab": {
      "name": "robot_2dof_ann.ipynb",
      "provenance": [],
      "collapsed_sections": [],
      "authorship_tag": "ABX9TyNO1xkmHyGEnp/t+ENhcecJ",
      "include_colab_link": true
    },
    "kernelspec": {
      "name": "python3",
      "display_name": "Python 3"
    },
    "language_info": {
      "name": "python"
    },
    "accelerator": "GPU"
  },
  "cells": [
    {
      "cell_type": "markdown",
      "metadata": {
        "id": "view-in-github",
        "colab_type": "text"
      },
      "source": [
        "<a href=\"https://colab.research.google.com/github/Nhatnguyen2001/AI_Exercise/blob/main/robot_2dof_ann.ipynb\" target=\"_parent\"><img src=\"https://colab.research.google.com/assets/colab-badge.svg\" alt=\"Open In Colab\"/></a>"
      ]
    },
    {
      "cell_type": "markdown",
      "source": [
        "1. IMPORT LIBRARY"
      ],
      "metadata": {
        "id": "UpFFIwmk84AP"
      }
    },
    {
      "cell_type": "code",
      "source": [
        "import numpy as np\n",
        "import pandas as pd\n",
        "from keras.layers import Dense,Dropout\n",
        "from sklearn.linear_model import Perceptron\n",
        "from sklearn.model_selection import train_test_split\n",
        "from sklearn.metrics import accuracy_score\n",
        "import tensorflow as tf\n",
        "from tensorflow.keras.optimizers import Adam\n",
        "from keras.models import Sequential"
      ],
      "metadata": {
        "id": "Brl3VXz7cmeS"
      },
      "execution_count": null,
      "outputs": []
    },
    {
      "cell_type": "markdown",
      "source": [
        " 2. CREATE DATA"
      ],
      "metadata": {
        "id": "uHDEs16F9DF0"
      }
    },
    {
      "cell_type": "code",
      "execution_count": null,
      "metadata": {
        "id": "qeChwZYeIwPM"
      },
      "outputs": [],
      "source": [
        "import matplotlib.pyplot as plt\n",
        "import math\n",
        "import csv\n",
        "import numpy as np\n",
        "u=[]\n",
        "z=[]\n",
        "t1=np.arange(0,180.1,0.5)\n",
        "t2=np.arange(0,180.1,0.5)\n",
        "for i in t1:\n",
        "\n",
        "  for j in t2:\n",
        "    x=50*math.cos(math.radians(i))+40*math.cos(math.radians(i+j))\n",
        "    y=50*math.sin(math.radians(i))+40*math.sin(math.radians(i+j))\n",
        "    \n",
        "    z.append(np.array((i,j,x,y)))\n",
        "  u.extend(z)\n",
        "#print(u)"
      ]
    },
    {
      "cell_type": "code",
      "source": [
        "header = ['anpha', 'beta', 'x', 'y']\n",
        "#header = [ 'x', 'y']\n",
        "with open('robot_2b.csv', 'w', encoding='UTF8', newline='') as f:\n",
        "    writer = csv.writer(f)\n",
        "\n",
        "    # write the header\n",
        "    writer.writerow(header)\n",
        "\n",
        "    # write multiple rows\n",
        "    writer.writerows(u)\n"
      ],
      "metadata": {
        "id": "bXHdTxdeTqHd"
      },
      "execution_count": null,
      "outputs": []
    },
    {
      "cell_type": "markdown",
      "source": [
        "3. XỬ LÝ DỮ LIỆU"
      ],
      "metadata": {
        "id": "uDdT71Za9HEt"
      }
    },
    {
      "cell_type": "code",
      "source": [
        "data = pd.read_csv('robot_2b.csv')\n",
        "data.shape\n",
        "numpy_dataset = data.values\n",
        "y=numpy_dataset[:,:2]\n",
        "x=numpy_dataset[:,2:]\n",
        "x_train,x_test,y_train,y_test = train_test_split(x,y,test_size=0.20)\n",
        "#print(x_train[0])\n",
        "#print(y_train[0])"
      ],
      "metadata": {
        "id": "pOLCIzI3hLGx"
      },
      "execution_count": null,
      "outputs": []
    },
    {
      "cell_type": "code",
      "source": [
        "print(\"Original data is:\",x_train)\n",
        "print(\"Shape of data is: \",x_train.shape)"
      ],
      "metadata": {
        "id": "M5jhLHnXzeC8",
        "colab": {
          "base_uri": "https://localhost:8080/"
        },
        "outputId": "77a06631-5685-446e-86ab-c2597403a9e7"
      },
      "execution_count": null,
      "outputs": [
        {
          "output_type": "stream",
          "name": "stdout",
          "text": [
            "Original data is: [[ 56.94592711  39.39231012]\n",
            " [-57.10100717  46.98463104]\n",
            " [-65.99711678  -9.64383467]\n",
            " ...\n",
            " [ 65.31538935 -13.51010306]\n",
            " [ -7.59232092  10.15508006]\n",
            " [ 76.93925521  42.49214229]]\n",
            "Shape of data is:  (4263, 2)\n"
          ]
        }
      ]
    },
    {
      "cell_type": "code",
      "source": [
        "print(\"Original data is:\",y_train)\n",
        "print(\"Shape of data is: \",y_train.shape)"
      ],
      "metadata": {
        "id": "V37mgkvFzuej",
        "colab": {
          "base_uri": "https://localhost:8080/"
        },
        "outputId": "96312363-d193-45cb-ce35-aedf44115705"
      },
      "execution_count": null,
      "outputs": [
        {
          "output_type": "stream",
          "name": "stdout",
          "text": [
            "Original data is: [[   0.   80.]\n",
            " [ 110.   70.]\n",
            " [-135.  -85.]\n",
            " ...\n",
            " [  25.  -85.]\n",
            " [ 160. -170.]\n",
            " [  40.  -25.]]\n",
            "Shape of data is:  (4263, 2)\n"
          ]
        }
      ]
    },
    {
      "cell_type": "markdown",
      "source": [
        "4. TRAIN MODEL"
      ],
      "metadata": {
        "id": "Etm7dtmH9Lg9"
      }
    },
    {
      "cell_type": "code",
      "source": [
        "model = Sequential() \n",
        "model.add(Dense(128, activation='relu', input_shape = (2,))) \n",
        "model.add(Dense(64, activation='relu'))\n",
        "model.add(Dense(32, activation='relu'))\n",
        "model.add(Dense(2))\n",
        "model.summary()\n",
        "model.compile(loss='mse', optimizer =Adam(), metrics=['acc'])\n",
        "history = model.fit(x_train, y_train, batch_size = 128, epochs = 2, validation_split = 0.2)"
      ],
      "metadata": {
        "colab": {
          "base_uri": "https://localhost:8080/"
        },
        "id": "MWWpByNK5P5b",
        "outputId": "f3e60180-9d74-40db-eaf3-451ecf7f328a"
      },
      "execution_count": null,
      "outputs": [
        {
          "output_type": "stream",
          "name": "stdout",
          "text": [
            "Model: \"sequential_1\"\n",
            "_________________________________________________________________\n",
            " Layer (type)                Output Shape              Param #   \n",
            "=================================================================\n",
            " dense_4 (Dense)             (None, 128)               384       \n",
            "                                                                 \n",
            " dense_5 (Dense)             (None, 64)                8256      \n",
            "                                                                 \n",
            " dense_6 (Dense)             (None, 32)                2080      \n",
            "                                                                 \n",
            " dense_7 (Dense)             (None, 2)                 66        \n",
            "                                                                 \n",
            "=================================================================\n",
            "Total params: 10,786\n",
            "Trainable params: 10,786\n",
            "Non-trainable params: 0\n",
            "_________________________________________________________________\n",
            "Epoch 1/2\n",
            "117941/117941 [==============================] - 355s 3ms/step - loss: 17.9961 - acc: 0.9826 - val_loss: 1.3372 - val_acc: 0.9910\n",
            "Epoch 2/2\n",
            "117941/117941 [==============================] - 351s 3ms/step - loss: 1.7935 - acc: 0.9890 - val_loss: 0.5642 - val_acc: 0.9934\n"
          ]
        }
      ]
    },
    {
      "cell_type": "markdown",
      "source": [
        "5. KIỂM TRA KẾT QUẢ"
      ],
      "metadata": {
        "id": "5CNyw2FJ9lB2"
      }
    },
    {
      "cell_type": "code",
      "source": [
        "score=model.evaluate(x_test,y_test,verbose=0)\n",
        "print('sai so kiem tra la',score[0])\n",
        "print('do chinh xac kiem tra',score[1])"
      ],
      "metadata": {
        "colab": {
          "base_uri": "https://localhost:8080/"
        },
        "id": "ETe2AfcDy8Q_",
        "outputId": "71d7e872-bcc8-4387-e59a-dc6887db6512"
      },
      "execution_count": null,
      "outputs": [
        {
          "output_type": "stream",
          "name": "stdout",
          "text": [
            "sai so kiem tra la 0.5638691782951355\n",
            "do chinh xac kiem tra 0.9933879971504211\n"
          ]
        }
      ]
    },
    {
      "cell_type": "code",
      "source": [
        "import pandas as pd\n",
        "score = model.evaluate(x_test,y_test,verbose = 0)\n",
        "y_pred = model.predict(x_test)\n",
        "print(y_pred)\n",
        "pd.DataFrame(history.history)\n",
        "plt.plot(figsize=(8,5))\n",
        "plt.grid(True)\n",
        "plt.gca().set_ylim(0,1)\n",
        "plt.show()"
      ],
      "metadata": {
        "colab": {
          "base_uri": "https://localhost:8080/",
          "height": 390
        },
        "id": "Td-WNov707o7",
        "outputId": "dc1a6454-a507-4dcc-a9e0-73c6e6f7136f"
      },
      "execution_count": null,
      "outputs": [
        {
          "output_type": "stream",
          "name": "stdout",
          "text": [
            "[[ 61.925087 170.97397 ]\n",
            " [ 66.78453    5.096967]\n",
            " [ 61.9086    99.97249 ]\n",
            " ...\n",
            " [ 66.38549  100.630104]\n",
            " [ 22.472895  37.44293 ]\n",
            " [  8.542823  21.977472]]\n"
          ]
        },
        {
          "output_type": "display_data",
          "data": {
            "text/plain": [
              "<Figure size 432x288 with 1 Axes>"
            ],
            "image/png": "[encoded data removed]"
          },
          "metadata": {
            "needs_background": "light"
          }
        }
      ]
    },
    {
      "cell_type": "code",
      "source": [
        "plt.plot(history.history['acc'])\n",
        "plt.plot(history.history['val_acc'])\n",
        "plt.title('model accuracy')\n",
        "plt.ylabel('accuracy')\n",
        "plt.xlabel('epoch')\n",
        "plt.legend(['train','validation'],loc='upper_left')\n",
        "plt.show()"
      ],
      "metadata": {
        "colab": {
          "base_uri": "https://localhost:8080/",
          "height": 558
        },
        "id": "dzbXeM201GiU",
        "outputId": "c557594f-6b87-4c0b-c95f-cf09957b76e7"
      },
      "execution_count": null,
      "outputs": [
        {
          "output_type": "stream",
          "name": "stderr",
          "text": [
            "/usr/local/lib/python3.7/dist-packages/ipykernel_launcher.py:6: MatplotlibDeprecationWarning: Unrecognized location 'upper_left'. Falling back on 'best'; valid locations are\n",
            "\tbest\n",
            "\tupper right\n",
            "\tupper left\n",
            "\tlower left\n",
            "\tlower right\n",
            "\tright\n",
            "\tcenter left\n",
            "\tcenter right\n",
            "\tlower center\n",
            "\tupper center\n",
            "\tcenter\n",
            "This will raise an exception in 3.3.\n",
            "  \n"
          ]
        },
        {
          "output_type": "display_data",
          "data": {
            "text/plain": [
              "<Figure size 432x288 with 1 Axes>"
            ],
            "image/png": "[encoded data removed]"
          },
          "metadata": {
            "needs_background": "light"
          }
        }
      ]
    },
    {
      "cell_type": "markdown",
      "source": [
        "6. TEST THỰC NGHIỆM"
      ],
      "metadata": {
        "id": "6aB1WLQJ9rrA"
      }
    },
    {
      "cell_type": "code",
      "source": [
        "Px_test_train = 50\n",
        "Py_test_train = 40\n",
        "print(Px_test_train,Py_test_train)\n",
        "test = model.predict([[Px_test_train,Py_test_train]])\n",
        "t1 = test[0][0]\n",
        "t2 = test[0][1]\n",
        "x_1=50*math.cos(math.radians(t1))+40*math.cos(math.radians(t1+t2))\n",
        "y_1=50*math.sin(math.radians(t1))+40*math.sin(math.radians(t1+t2))\n",
        "print('x = ',x_1,'y = ',y_1)\n",
        "print(t1,t2)"
      ],
      "metadata": {
        "colab": {
          "base_uri": "https://localhost:8080/"
        },
        "id": "uf0EwYAdCkBI",
        "outputId": "8333851a-01f6-47c2-94e7-74b8f73daf9a"
      },
      "execution_count": null,
      "outputs": [
        {
          "output_type": "stream",
          "name": "stdout",
          "text": [
            "50 40\n",
            "x =  49.86796327951525 y =  40.0282180319164\n",
            "0.032585174 90.15653\n"
          ]
        }
      ]
    },
    {
      "cell_type": "markdown",
      "source": [
        "7. LƯU MODEL"
      ],
      "metadata": {
        "id": "sYpJTIzs9ws1"
      }
    },
    {
      "cell_type": "code",
      "source": [
        "model.save('Robot_2dof.h5')"
      ],
      "metadata": {
        "id": "sVHwLSRa7b7P"
      },
      "execution_count": null,
      "outputs": []
    }
  ]
}